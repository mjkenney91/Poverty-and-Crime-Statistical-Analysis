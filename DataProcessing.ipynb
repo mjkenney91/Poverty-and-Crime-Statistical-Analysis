{
 "cells": [
  {
   "cell_type": "code",
   "execution_count": 1,
   "metadata": {},
   "outputs": [],
   "source": [
    "import pandas as pd\n",
    "import numpy as np\n",
    "import thinkstats2 as ts\n",
    "import thinkplot as tp\n",
    "\n",
    "# Poverty breeds necesity therefor greater poverty == greater crime rates\n",
    "#statquestion"
   ]
  },
  {
   "cell_type": "code",
   "execution_count": 2,
   "metadata": {},
   "outputs": [],
   "source": [
    "demodf=pd.read_csv('azcitydat.csv')\n",
    "crimedf=pd.read_csv('crimedata.csv')"
   ]
  },
  {
   "cell_type": "code",
   "execution_count": 3,
   "metadata": {},
   "outputs": [],
   "source": [
    "#dataset1\n",
    "#var descriptions\n",
    "cdat=demodf[['City',\n",
    "                'Year',\n",
    "                'Total Population',       \n",
    "                'Pov Stat :Total', \n",
    "                'Pov Stat :Male', \n",
    "                'Pov Stat :Female',\n",
    "                'Income/Poverty level :Total', \n",
    "                'Income/Poverty level :Under .50',\n",
    "                'Income/Poverty level :.50 to .74', \n",
    "                'Income/Poverty level :.75 to .99',\n",
    "                'Income/Poverty level :1.00 to 1.24',\n",
    "                'Income/Poverty level :1.25 to 1.49',\n",
    "                'Income/Poverty level :1.50 to 1.74',\n",
    "                'Income/Poverty level :1.75 to 1.84',\n",
    "                'Income/Poverty level :1.85 to 1.99',\n",
    "                'Income/Poverty level :2.00 to 2.99',\n",
    "                'Income/Poverty level :3.00 to 3.99',\n",
    "                'Income/Poverty level :4.00 to 4.99',\n",
    "                'Income/Poverty level :5.00 and over',]]"
   ]
  },
  {
   "cell_type": "code",
   "execution_count": 4,
   "metadata": {},
   "outputs": [],
   "source": [
    "#dataset2\n",
    "#var descriptions\n",
    "cdf=crimedf[['City', \n",
    "                'Population', \n",
    "                'Violent crime',\n",
    "                'Robbery',\n",
    "                'Aggravated assault',\n",
    "                'Property crime',\n",
    "                'Burglary', \n",
    "                'Larceny-theft',\n",
    "                'Motor vehicle theft', \n",
    "                'year']]"
   ]
  },
  {
   "cell_type": "code",
   "execution_count": 5,
   "metadata": {},
   "outputs": [
    {
     "data": {
      "text/plain": [
       "array(['Avondale city', 'Casas Adobes CDP', 'Chandler city',\n",
       "       'Flagstaff city', 'Gilbert town', 'Glendale city', 'Goodyear city',\n",
       "       'Mesa city', 'Peoria city', 'Phoenix city', 'San Tan Valley CDP',\n",
       "       'Scottsdale city', 'Surprise city', 'Tempe city', 'Tucson city',\n",
       "       'Yuma city', 'Buckeye city'], dtype=object)"
      ]
     },
     "execution_count": 5,
     "metadata": {},
     "output_type": "execute_result"
    }
   ],
   "source": [
    "cdat.City.unique()"
   ]
  },
  {
   "cell_type": "code",
   "execution_count": 6,
   "metadata": {},
   "outputs": [
    {
     "data": {
      "text/plain": [
       "array(['Apache Junction', 'Buckeye', 'Bullhead City', 'Camp Verde',\n",
       "       'Casa Grande', 'Chandler', 'Chino Valley', 'Cottonwood',\n",
       "       'El Mirage', 'Eloy', 'Flagstaff', 'Florence', 'Gilbert',\n",
       "       'Glendale', 'Goodyear', 'Kingman', 'Marana', 'Mesa', 'Nogales',\n",
       "       'Oro Valley', 'Paradise Valley', 'Payson', 'Peoria', 'Phoenix',\n",
       "       'Prescott', 'Sahuarita', 'Scottsdale', 'Sedona', 'Sierra Vista',\n",
       "       'Somerton', 'Surprise', 'Tempe', 'Tucson', 'Yuma',\n",
       "       'Lake Havasu City', 'Show Low'], dtype=object)"
      ]
     },
     "execution_count": 6,
     "metadata": {},
     "output_type": "execute_result"
    }
   ],
   "source": [
    "cdf.City.unique()"
   ]
  },
  {
   "cell_type": "code",
   "execution_count": 7,
   "metadata": {},
   "outputs": [
    {
     "data": {
      "text/plain": [
       "14"
      ]
     },
     "execution_count": 7,
     "metadata": {},
     "output_type": "execute_result"
    }
   ],
   "source": [
    "cities={'Chandler city':'Chandler',  \n",
    "       'Flagstaff city':'Flagstaff', 'Gilbert town':'Gilbert',\n",
    "       'Glendale city':'Glendale', 'Goodyear city':'Goodyear',\n",
    "       'Mesa city':'Mesa', 'Peoria city':'Peoria', 'Phoenix city':'Phoenix',\n",
    "       'Scottsdale city':'Scottsdale', 'Surprise city':'Surprise', 'Tempe city':'Tempe', 'Tucson city':'Tucson',\n",
    "       'Yuma city':'Yuma', 'Buckeye city':'Buckeye'}\n",
    "len(cities)"
   ]
  },
  {
   "cell_type": "code",
   "execution_count": 8,
   "metadata": {},
   "outputs": [],
   "source": [
    "cityPovertyDF=cdat[cdat['City']=='Chandler city']\n",
    "for city in cities.keys():\n",
    "    cityPovertyDF=cityPovertyDF.append(cdat[cdat['City']==city])\n",
    "cityPovertyDF.drop_duplicates(inplace=True)\n",
    "cityPovertyDF=cityPovertyDF.replace({'City':cities})\n",
    "\n",
    "cityCDF=cdf[cdf['City']=='Chandler']\n",
    "for k,v in cities.items():\n",
    "    cityCDF=cityCDF.append(cdf[cdf['City']==v])\n",
    "cityCDF.drop_duplicates(inplace=True)"
   ]
  },
  {
   "cell_type": "code",
   "execution_count": 9,
   "metadata": {},
   "outputs": [
    {
     "data": {
      "text/plain": [
       "array([ True,  True,  True,  True,  True,  True,  True,  True,  True,\n",
       "        True,  True,  True,  True,  True])"
      ]
     },
     "execution_count": 9,
     "metadata": {},
     "output_type": "execute_result"
    }
   ],
   "source": [
    "cityCDF.City.unique()==cityPovertyDF.City.unique()"
   ]
  },
  {
   "cell_type": "code",
   "execution_count": 10,
   "metadata": {},
   "outputs": [
    {
     "name": "stdout",
     "output_type": "stream",
     "text": [
      "[2010 2011 2012 2013 2014 2015 2016 2018 2006 2007 2008 2009 2005]\n"
     ]
    },
    {
     "data": {
      "text/html": [
       "<div>\n",
       "<style scoped>\n",
       "    .dataframe tbody tr th:only-of-type {\n",
       "        vertical-align: middle;\n",
       "    }\n",
       "\n",
       "    .dataframe tbody tr th {\n",
       "        vertical-align: top;\n",
       "    }\n",
       "\n",
       "    .dataframe thead th {\n",
       "        text-align: right;\n",
       "    }\n",
       "</style>\n",
       "<table border=\"1\" class=\"dataframe\">\n",
       "  <thead>\n",
       "    <tr style=\"text-align: right;\">\n",
       "      <th></th>\n",
       "      <th>City</th>\n",
       "      <th>Population</th>\n",
       "      <th>Violent crime</th>\n",
       "      <th>Robbery</th>\n",
       "      <th>Aggravated assault</th>\n",
       "      <th>Property crime</th>\n",
       "      <th>Burglary</th>\n",
       "      <th>Larceny-theft</th>\n",
       "      <th>Motor vehicle theft</th>\n",
       "      <th>year</th>\n",
       "    </tr>\n",
       "  </thead>\n",
       "  <tbody>\n",
       "    <tr>\n",
       "      <th>5</th>\n",
       "      <td>Chandler</td>\n",
       "      <td>241826.0</td>\n",
       "      <td>691.0</td>\n",
       "      <td>195.0</td>\n",
       "      <td>429.0</td>\n",
       "      <td>7516.0</td>\n",
       "      <td>1373.0</td>\n",
       "      <td>5766.0</td>\n",
       "      <td>377.0</td>\n",
       "      <td>2010</td>\n",
       "    </tr>\n",
       "    <tr>\n",
       "      <th>40</th>\n",
       "      <td>Chandler</td>\n",
       "      <td>239466.0</td>\n",
       "      <td>681.0</td>\n",
       "      <td>171.0</td>\n",
       "      <td>446.0</td>\n",
       "      <td>7416.0</td>\n",
       "      <td>1344.0</td>\n",
       "      <td>5741.0</td>\n",
       "      <td>331.0</td>\n",
       "      <td>2011</td>\n",
       "    </tr>\n",
       "    <tr>\n",
       "      <th>77</th>\n",
       "      <td>Chandler</td>\n",
       "      <td>242721.0</td>\n",
       "      <td>628.0</td>\n",
       "      <td>149.0</td>\n",
       "      <td>411.0</td>\n",
       "      <td>6571.0</td>\n",
       "      <td>1147.0</td>\n",
       "      <td>5168.0</td>\n",
       "      <td>256.0</td>\n",
       "      <td>2012</td>\n",
       "    </tr>\n",
       "    <tr>\n",
       "      <th>113</th>\n",
       "      <td>Chandler</td>\n",
       "      <td>248718.0</td>\n",
       "      <td>575.0</td>\n",
       "      <td>162.0</td>\n",
       "      <td>359.0</td>\n",
       "      <td>5900.0</td>\n",
       "      <td>993.0</td>\n",
       "      <td>4628.0</td>\n",
       "      <td>279.0</td>\n",
       "      <td>2013</td>\n",
       "    </tr>\n",
       "    <tr>\n",
       "      <th>148</th>\n",
       "      <td>Chandler</td>\n",
       "      <td>252369.0</td>\n",
       "      <td>466.0</td>\n",
       "      <td>111.0</td>\n",
       "      <td>294.0</td>\n",
       "      <td>5643.0</td>\n",
       "      <td>954.0</td>\n",
       "      <td>4461.0</td>\n",
       "      <td>228.0</td>\n",
       "      <td>2014</td>\n",
       "    </tr>\n",
       "  </tbody>\n",
       "</table>\n",
       "</div>"
      ],
      "text/plain": [
       "         City  Population  Violent crime  Robbery  Aggravated assault  \\\n",
       "5    Chandler    241826.0          691.0    195.0               429.0   \n",
       "40   Chandler    239466.0          681.0    171.0               446.0   \n",
       "77   Chandler    242721.0          628.0    149.0               411.0   \n",
       "113  Chandler    248718.0          575.0    162.0               359.0   \n",
       "148  Chandler    252369.0          466.0    111.0               294.0   \n",
       "\n",
       "     Property crime  Burglary  Larceny-theft  Motor vehicle theft  year  \n",
       "5            7516.0    1373.0         5766.0                377.0  2010  \n",
       "40           7416.0    1344.0         5741.0                331.0  2011  \n",
       "77           6571.0    1147.0         5168.0                256.0  2012  \n",
       "113          5900.0     993.0         4628.0                279.0  2013  \n",
       "148          5643.0     954.0         4461.0                228.0  2014  "
      ]
     },
     "execution_count": 10,
     "metadata": {},
     "output_type": "execute_result"
    }
   ],
   "source": [
    "print(cityCDF.year.unique())\n",
    "cityCDF.head()"
   ]
  },
  {
   "cell_type": "code",
   "execution_count": 11,
   "metadata": {},
   "outputs": [
    {
     "data": {
      "text/plain": [
       "Index(['City', 'Year', 'Total Population', 'Pov Stat :Total', 'Pov Stat :Male',\n",
       "       'Pov Stat :Female', 'Income/Poverty level :Total',\n",
       "       'Income/Poverty level :Under .50', 'Income/Poverty level :.50 to .74',\n",
       "       'Income/Poverty level :.75 to .99',\n",
       "       'Income/Poverty level :1.00 to 1.24',\n",
       "       'Income/Poverty level :1.25 to 1.49',\n",
       "       'Income/Poverty level :1.50 to 1.74',\n",
       "       'Income/Poverty level :1.75 to 1.84',\n",
       "       'Income/Poverty level :1.85 to 1.99',\n",
       "       'Income/Poverty level :2.00 to 2.99',\n",
       "       'Income/Poverty level :3.00 to 3.99',\n",
       "       'Income/Poverty level :4.00 to 4.99',\n",
       "       'Income/Poverty level :5.00 and over'],\n",
       "      dtype='object')"
      ]
     },
     "execution_count": 11,
     "metadata": {},
     "output_type": "execute_result"
    }
   ],
   "source": [
    "cityPovertyDF.head()\n",
    "cityPovertyDF.columns"
   ]
  },
  {
   "cell_type": "code",
   "execution_count": 12,
   "metadata": {},
   "outputs": [],
   "source": [
    "cityPovertyDF['total below poverty line']=cityPovertyDF['Income/Poverty level :Under .50']+cityPovertyDF['Income/Poverty level :.50 to .74']+cityPovertyDF['Income/Poverty level :.75 to .99']\n",
    "cityPovertyDF['ratio below poverty line']=cityPovertyDF['total below poverty line']/cityPovertyDF['Income/Poverty level :Total']"
   ]
  },
  {
   "cell_type": "code",
   "execution_count": 13,
   "metadata": {},
   "outputs": [],
   "source": [
    "totalpoverty=cityPovertyDF['Income/Poverty level :Under .50']\n",
    "for val in ['Income/Poverty level :.50 to .74',\n",
    "       'Income/Poverty level :.75 to .99',\n",
    "       'Income/Poverty level :1.00 to 1.24',\n",
    "       'Income/Poverty level :1.25 to 1.49',\n",
    "       'Income/Poverty level :1.50 to 1.74',\n",
    "       'Income/Poverty level :1.75 to 1.84',\n",
    "       'Income/Poverty level :1.85 to 1.99',\n",
    "       'Income/Poverty level :2.00 to 2.99',\n",
    "       'Income/Poverty level :3.00 to 3.99',\n",
    "       'Income/Poverty level :4.00 to 4.99',\n",
    "       'Income/Poverty level :5.00 and over']:\n",
    "    totalpoverty=totalpoverty+cityPovertyDF[val]\n",
    "#totalpoverty==cityPovertyDF['Income/Poverty level :Total']"
   ]
  },
  {
   "cell_type": "code",
   "execution_count": 14,
   "metadata": {},
   "outputs": [],
   "source": [
    "cityPovertyDF=cityPovertyDF[['City', 'Year','ratio below poverty line']]"
   ]
  },
  {
   "cell_type": "code",
   "execution_count": 15,
   "metadata": {},
   "outputs": [
    {
     "name": "stdout",
     "output_type": "stream",
     "text": [
      "[2011 2012 2013 2014 2015 2016 2017 2018]\n"
     ]
    }
   ],
   "source": [
    "print(cityPovertyDF.Year.unique())"
   ]
  },
  {
   "cell_type": "code",
   "execution_count": 16,
   "metadata": {},
   "outputs": [
    {
     "name": "stdout",
     "output_type": "stream",
     "text": [
      "(93, 10)\n"
     ]
    }
   ],
   "source": [
    "cityCrimeDF=cityCDF[cityCDF['year']==2011]\n",
    "for year in [2012, 2013, 2014 ,2015 ,2016 ,2017, 2018]:\n",
    "    cityCrimeDF=cityCrimeDF.append(cityCDF[cityCDF['year']==year])\n",
    "print(cityCrimeDF.shape)\n"
   ]
  },
  {
   "cell_type": "code",
   "execution_count": 17,
   "metadata": {},
   "outputs": [],
   "source": [
    "pd.set_option('precision', 4)\n",
    "\n",
    "for col in ['Violent crime', 'Robbery', 'Aggravated assault',\n",
    "       'Property crime', 'Burglary', 'Larceny-theft', 'Motor vehicle theft']:\n",
    "            cityCrimeDF[col]=cityCrimeDF[col]/cityCrimeDF['Population']\n"
   ]
  },
  {
   "cell_type": "code",
   "execution_count": 18,
   "metadata": {},
   "outputs": [
    {
     "data": {
      "text/plain": [
       "Index(['City', 'Population', 'Violent crime per capita', 'Robbery per capita',\n",
       "       'Aggravated assault per capita', 'Property crime per capita',\n",
       "       'Burglary per capita', 'Larceny-theft per capita',\n",
       "       'Motor vehicle theft per capita', 'year'],\n",
       "      dtype='object')"
      ]
     },
     "execution_count": 18,
     "metadata": {},
     "output_type": "execute_result"
    }
   ],
   "source": [
    "renamez={}\n",
    "for col in ['Violent crime', 'Robbery', 'Aggravated assault',\n",
    "       'Property crime', 'Burglary', 'Larceny-theft', 'Motor vehicle theft']:\n",
    "    renamez[col]=str(col)+' per capita'\n",
    "    \n",
    "cityCrimeDF.rename(columns=renamez,inplace=True)\n",
    "cityCrimeDF.columns"
   ]
  },
  {
   "cell_type": "code",
   "execution_count": 19,
   "metadata": {},
   "outputs": [
    {
     "data": {
      "text/html": [
       "<div>\n",
       "<style scoped>\n",
       "    .dataframe tbody tr th:only-of-type {\n",
       "        vertical-align: middle;\n",
       "    }\n",
       "\n",
       "    .dataframe tbody tr th {\n",
       "        vertical-align: top;\n",
       "    }\n",
       "\n",
       "    .dataframe thead th {\n",
       "        text-align: right;\n",
       "    }\n",
       "</style>\n",
       "<table border=\"1\" class=\"dataframe\">\n",
       "  <thead>\n",
       "    <tr style=\"text-align: right;\">\n",
       "      <th></th>\n",
       "      <th>City</th>\n",
       "      <th>Violent crime per capita</th>\n",
       "      <th>Robbery per capita</th>\n",
       "      <th>Aggravated assault per capita</th>\n",
       "      <th>Property crime per capita</th>\n",
       "      <th>Burglary per capita</th>\n",
       "      <th>Larceny-theft per capita</th>\n",
       "      <th>Motor vehicle theft per capita</th>\n",
       "      <th>Year</th>\n",
       "      <th>ratio below poverty line</th>\n",
       "    </tr>\n",
       "  </thead>\n",
       "  <tbody>\n",
       "    <tr>\n",
       "      <th>0</th>\n",
       "      <td>Chandler</td>\n",
       "      <td>0.0028</td>\n",
       "      <td>0.0007</td>\n",
       "      <td>0.0019</td>\n",
       "      <td>0.0310</td>\n",
       "      <td>0.0056</td>\n",
       "      <td>0.0240</td>\n",
       "      <td>0.0014</td>\n",
       "      <td>2011.0</td>\n",
       "      <td>0.1046</td>\n",
       "    </tr>\n",
       "    <tr>\n",
       "      <th>1</th>\n",
       "      <td>Flagstaff</td>\n",
       "      <td>0.0039</td>\n",
       "      <td>0.0006</td>\n",
       "      <td>0.0027</td>\n",
       "      <td>0.0450</td>\n",
       "      <td>0.0035</td>\n",
       "      <td>0.0405</td>\n",
       "      <td>0.0010</td>\n",
       "      <td>2011.0</td>\n",
       "      <td>0.2427</td>\n",
       "    </tr>\n",
       "    <tr>\n",
       "      <th>2</th>\n",
       "      <td>Gilbert</td>\n",
       "      <td>0.0008</td>\n",
       "      <td>0.0003</td>\n",
       "      <td>0.0005</td>\n",
       "      <td>0.0182</td>\n",
       "      <td>0.0039</td>\n",
       "      <td>0.0137</td>\n",
       "      <td>0.0006</td>\n",
       "      <td>2011.0</td>\n",
       "      <td>0.0715</td>\n",
       "    </tr>\n",
       "    <tr>\n",
       "      <th>3</th>\n",
       "      <td>Glendale</td>\n",
       "      <td>0.0048</td>\n",
       "      <td>0.0019</td>\n",
       "      <td>0.0027</td>\n",
       "      <td>0.0641</td>\n",
       "      <td>0.0106</td>\n",
       "      <td>0.0471</td>\n",
       "      <td>0.0063</td>\n",
       "      <td>2011.0</td>\n",
       "      <td>0.1925</td>\n",
       "    </tr>\n",
       "    <tr>\n",
       "      <th>4</th>\n",
       "      <td>Goodyear</td>\n",
       "      <td>0.0016</td>\n",
       "      <td>0.0003</td>\n",
       "      <td>0.0010</td>\n",
       "      <td>0.0281</td>\n",
       "      <td>0.0123</td>\n",
       "      <td>0.0142</td>\n",
       "      <td>0.0016</td>\n",
       "      <td>2011.0</td>\n",
       "      <td>0.0827</td>\n",
       "    </tr>\n",
       "    <tr>\n",
       "      <th>...</th>\n",
       "      <td>...</td>\n",
       "      <td>...</td>\n",
       "      <td>...</td>\n",
       "      <td>...</td>\n",
       "      <td>...</td>\n",
       "      <td>...</td>\n",
       "      <td>...</td>\n",
       "      <td>...</td>\n",
       "      <td>...</td>\n",
       "      <td>...</td>\n",
       "    </tr>\n",
       "    <tr>\n",
       "      <th>88</th>\n",
       "      <td>Surprise</td>\n",
       "      <td>0.0012</td>\n",
       "      <td>0.0003</td>\n",
       "      <td>0.0007</td>\n",
       "      <td>0.0154</td>\n",
       "      <td>0.0017</td>\n",
       "      <td>0.0122</td>\n",
       "      <td>0.0014</td>\n",
       "      <td>2018.0</td>\n",
       "      <td>0.0539</td>\n",
       "    </tr>\n",
       "    <tr>\n",
       "      <th>89</th>\n",
       "      <td>Tempe</td>\n",
       "      <td>0.0048</td>\n",
       "      <td>0.0010</td>\n",
       "      <td>0.0029</td>\n",
       "      <td>0.0414</td>\n",
       "      <td>0.0054</td>\n",
       "      <td>0.0331</td>\n",
       "      <td>0.0029</td>\n",
       "      <td>2018.0</td>\n",
       "      <td>0.1745</td>\n",
       "    </tr>\n",
       "    <tr>\n",
       "      <th>90</th>\n",
       "      <td>Tucson</td>\n",
       "      <td>0.0074</td>\n",
       "      <td>0.0023</td>\n",
       "      <td>0.0041</td>\n",
       "      <td>0.0495</td>\n",
       "      <td>0.0061</td>\n",
       "      <td>0.0387</td>\n",
       "      <td>0.0048</td>\n",
       "      <td>2018.0</td>\n",
       "      <td>0.2191</td>\n",
       "    </tr>\n",
       "    <tr>\n",
       "      <th>91</th>\n",
       "      <td>Yuma</td>\n",
       "      <td>0.0051</td>\n",
       "      <td>0.0006</td>\n",
       "      <td>0.0041</td>\n",
       "      <td>0.0212</td>\n",
       "      <td>0.0042</td>\n",
       "      <td>0.0147</td>\n",
       "      <td>0.0023</td>\n",
       "      <td>2018.0</td>\n",
       "      <td>0.1889</td>\n",
       "    </tr>\n",
       "    <tr>\n",
       "      <th>92</th>\n",
       "      <td>Buckeye</td>\n",
       "      <td>0.0018</td>\n",
       "      <td>0.0002</td>\n",
       "      <td>0.0011</td>\n",
       "      <td>0.0189</td>\n",
       "      <td>0.0024</td>\n",
       "      <td>0.0156</td>\n",
       "      <td>0.0009</td>\n",
       "      <td>2018.0</td>\n",
       "      <td>0.1324</td>\n",
       "    </tr>\n",
       "  </tbody>\n",
       "</table>\n",
       "<p>93 rows × 10 columns</p>\n",
       "</div>"
      ],
      "text/plain": [
       "         City  Violent crime per capita  Robbery per capita  \\\n",
       "0    Chandler                    0.0028              0.0007   \n",
       "1   Flagstaff                    0.0039              0.0006   \n",
       "2     Gilbert                    0.0008              0.0003   \n",
       "3    Glendale                    0.0048              0.0019   \n",
       "4    Goodyear                    0.0016              0.0003   \n",
       "..        ...                       ...                 ...   \n",
       "88   Surprise                    0.0012              0.0003   \n",
       "89      Tempe                    0.0048              0.0010   \n",
       "90     Tucson                    0.0074              0.0023   \n",
       "91       Yuma                    0.0051              0.0006   \n",
       "92    Buckeye                    0.0018              0.0002   \n",
       "\n",
       "    Aggravated assault per capita  Property crime per capita  \\\n",
       "0                          0.0019                     0.0310   \n",
       "1                          0.0027                     0.0450   \n",
       "2                          0.0005                     0.0182   \n",
       "3                          0.0027                     0.0641   \n",
       "4                          0.0010                     0.0281   \n",
       "..                            ...                        ...   \n",
       "88                         0.0007                     0.0154   \n",
       "89                         0.0029                     0.0414   \n",
       "90                         0.0041                     0.0495   \n",
       "91                         0.0041                     0.0212   \n",
       "92                         0.0011                     0.0189   \n",
       "\n",
       "    Burglary per capita  Larceny-theft per capita  \\\n",
       "0                0.0056                    0.0240   \n",
       "1                0.0035                    0.0405   \n",
       "2                0.0039                    0.0137   \n",
       "3                0.0106                    0.0471   \n",
       "4                0.0123                    0.0142   \n",
       "..                  ...                       ...   \n",
       "88               0.0017                    0.0122   \n",
       "89               0.0054                    0.0331   \n",
       "90               0.0061                    0.0387   \n",
       "91               0.0042                    0.0147   \n",
       "92               0.0024                    0.0156   \n",
       "\n",
       "    Motor vehicle theft per capita    Year  ratio below poverty line  \n",
       "0                           0.0014  2011.0                    0.1046  \n",
       "1                           0.0010  2011.0                    0.2427  \n",
       "2                           0.0006  2011.0                    0.0715  \n",
       "3                           0.0063  2011.0                    0.1925  \n",
       "4                           0.0016  2011.0                    0.0827  \n",
       "..                             ...     ...                       ...  \n",
       "88                          0.0014  2018.0                    0.0539  \n",
       "89                          0.0029  2018.0                    0.1745  \n",
       "90                          0.0048  2018.0                    0.2191  \n",
       "91                          0.0023  2018.0                    0.1889  \n",
       "92                          0.0009  2018.0                    0.1324  \n",
       "\n",
       "[93 rows x 10 columns]"
      ]
     },
     "execution_count": 19,
     "metadata": {},
     "output_type": "execute_result"
    }
   ],
   "source": [
    "mpbndf=cityCrimeDF.merge(cityPovertyDF,how='left' ,  left_on=['City','year'] , right_on=['City','Year'] )\n",
    "mpbndf.drop(columns=['year','Population'],inplace=True)\n",
    "mpbndf.head(130)"
   ]
  },
  {
   "cell_type": "code",
   "execution_count": null,
   "metadata": {},
   "outputs": [],
   "source": []
  },
  {
   "cell_type": "code",
   "execution_count": 20,
   "metadata": {},
   "outputs": [
    {
     "name": "stdout",
     "output_type": "stream",
     "text": [
      "The Mean of  Violent crime per capita  is 0.0032997783746186557\n",
      "The mode of  Violent crime per capita  is not valid, no vals are equal\n",
      "The spread/std div of  Violent crime per capita  is 0.002035148294084441\n",
      "The kurtosis of  Violent crime per capita  is -1.0589929022273714\n",
      "The Mean of  Robbery per capita  is 0.0008396605758882034\n",
      "The mode of  Robbery per capita  is not valid, no vals are equal\n",
      "The spread/std div of  Robbery per capita  is 0.000663825678652149\n",
      "The kurtosis of  Robbery per capita  is -0.2177980580093113\n",
      "The Mean of  Aggravated assault per capita  is 0.0020859275068143552\n",
      "The mode of  Aggravated assault per capita  is not valid, no vals are equal\n",
      "The spread/std div of  Aggravated assault per capita  is 0.0013186198641493786\n",
      "The kurtosis of  Aggravated assault per capita  is -1.1354446421023296\n",
      "The Mean of  Property crime per capita  is 0.03137207859867097\n",
      "The mode of  Property crime per capita  is not valid, no vals are equal\n",
      "The spread/std div of  Property crime per capita  is 0.013411610965632906\n",
      "The kurtosis of  Property crime per capita  is 0.07047163378549515\n",
      "The Mean of  Burglary per capita  is 0.005642594110452932\n",
      "The mode of  Burglary per capita  is not valid, no vals are equal\n",
      "The spread/std div of  Burglary per capita  is 0.0027865451090571917\n",
      "The kurtosis of  Burglary per capita  is -0.3222743642866903\n",
      "The Mean of  Larceny-theft per capita  is 0.023773224459376963\n",
      "The mode of  Larceny-theft per capita  is not valid, no vals are equal\n",
      "The spread/std div of  Larceny-theft per capita  is 0.010801702667358214\n",
      "The kurtosis of  Larceny-theft per capita  is 0.19596514643480845\n",
      "The Mean of  Motor vehicle theft per capita  is 0.0021024442095274516\n",
      "The mode of  Motor vehicle theft per capita  is not valid, no vals are equal\n",
      "The spread/std div of  Motor vehicle theft per capita  is 0.0014771013818055416\n",
      "The kurtosis of  Motor vehicle theft per capita  is -0.09030612969464835\n",
      "The Mean of  ratio below poverty line  is 0.14952996633480542\n",
      "The mode of  ratio below poverty line  is not valid, no vals are equal\n",
      "The spread/std div of  ratio below poverty line  is 0.06857319360677647\n",
      "The kurtosis of  ratio below poverty line  is -1.419974619512024\n"
     ]
    }
   ],
   "source": [
    "for col in ['Violent crime per capita', 'Robbery per capita',\n",
    "       'Aggravated assault per capita', 'Property crime per capita',\n",
    "       'Burglary per capita', 'Larceny-theft per capita',\n",
    "       'Motor vehicle theft per capita','ratio below poverty line']:\n",
    "        print('The Mean of ',col,' is', mpbndf[col].mean())\n",
    "        print('The mode of ',col,' is not valid, no vals are equal')\n",
    "        print('The spread/std div of ',col,' is', mpbndf[col].std(skipna=True))\n",
    "        print('The kurtosis of ',col,' is', mpbndf[col].kurtosis(skipna=True))"
   ]
  },
  {
   "cell_type": "code",
   "execution_count": 21,
   "metadata": {},
   "outputs": [
    {
     "name": "stdout",
     "output_type": "stream",
     "text": [
      "Graph of Violent crime per capita\n"
     ]
    },
    {
     "data": {
      "image/png": "[encoded data removed]",
      "text/plain": [
       "<Figure size 432x288 with 1 Axes>"
      ]
     },
     "metadata": {
      "needs_background": "light"
     },
     "output_type": "display_data"
    },
    {
     "name": "stdout",
     "output_type": "stream",
     "text": [
      "Graph of Robbery per capita\n"
     ]
    },
    {
     "data": {
      "image/png": "[encoded data removed]",
      "text/plain": [
       "<Figure size 432x288 with 1 Axes>"
      ]
     },
     "metadata": {
      "needs_background": "light"
     },
     "output_type": "display_data"
    },
    {
     "name": "stdout",
     "output_type": "stream",
     "text": [
      "Graph of Aggravated assault per capita\n"
     ]
    },
    {
     "data": {
      "image/png": "[encoded data removed]",
      "text/plain": [
       "<Figure size 432x288 with 1 Axes>"
      ]
     },
     "metadata": {
      "needs_background": "light"
     },
     "output_type": "display_data"
    },
    {
     "name": "stdout",
     "output_type": "stream",
     "text": [
      "Graph of Property crime per capita\n"
     ]
    },
    {
     "data": {
      "image/png": "[encoded data removed]",
      "text/plain": [
       "<Figure size 432x288 with 1 Axes>"
      ]
     },
     "metadata": {
      "needs_background": "light"
     },
     "output_type": "display_data"
    },
    {
     "name": "stdout",
     "output_type": "stream",
     "text": [
      "Graph of Burglary per capita\n"
     ]
    },
    {
     "data": {
      "image/png": "[encoded data removed]",
      "text/plain": [
       "<Figure size 432x288 with 1 Axes>"
      ]
     },
     "metadata": {
      "needs_background": "light"
     },
     "output_type": "display_data"
    },
    {
     "name": "stdout",
     "output_type": "stream",
     "text": [
      "Graph of Larceny-theft per capita\n"
     ]
    },
    {
     "data": {
      "image/png": "[encoded data removed]",
      "text/plain": [
       "<Figure size 432x288 with 1 Axes>"
      ]
     },
     "metadata": {
      "needs_background": "light"
     },
     "output_type": "display_data"
    },
    {
     "name": "stdout",
     "output_type": "stream",
     "text": [
      "Graph of Motor vehicle theft per capita\n"
     ]
    },
    {
     "data": {
      "image/png": "[encoded data removed]",
      "text/plain": [
       "<Figure size 432x288 with 1 Axes>"
      ]
     },
     "metadata": {
      "needs_background": "light"
     },
     "output_type": "display_data"
    },
    {
     "name": "stdout",
     "output_type": "stream",
     "text": [
      "Graph of ratio below poverty line\n"
     ]
    },
    {
     "data": {
      "image/png": "[encoded data removed]",
      "text/plain": [
       "<Figure size 432x288 with 1 Axes>"
      ]
     },
     "metadata": {
      "needs_background": "light"
     },
     "output_type": "display_data"
    }
   ],
   "source": [
    "import matplotlib.pyplot as plt\n",
    "for col in ['Violent crime per capita', 'Robbery per capita',\n",
    "       'Aggravated assault per capita', 'Property crime per capita',\n",
    "       'Burglary per capita', 'Larceny-theft per capita',\n",
    "       'Motor vehicle theft per capita','ratio below poverty line']:\n",
    "    print('Graph of '+ col)\n",
    "    mpbndf[col].hist(bins=14,label=str(col))\n",
    "    plt.show()\n",
    "#after scaling by population there are not any outliers shown by the histogram"
   ]
  },
  {
   "cell_type": "code",
   "execution_count": 22,
   "metadata": {},
   "outputs": [
    {
     "name": "stdout",
     "output_type": "stream",
     "text": [
      "Graph of Violent crime per capita\n"
     ]
    },
    {
     "data": {
      "image/png": "[encoded data removed]",
      "text/plain": [
       "<Figure size 432x288 with 1 Axes>"
      ]
     },
     "metadata": {
      "needs_background": "light"
     },
     "output_type": "display_data"
    },
    {
     "name": "stdout",
     "output_type": "stream",
     "text": [
      "Graph of Robbery per capita\n"
     ]
    },
    {
     "data": {
      "image/png": "[encoded data removed]",
      "text/plain": [
       "<Figure size 432x288 with 1 Axes>"
      ]
     },
     "metadata": {
      "needs_background": "light"
     },
     "output_type": "display_data"
    },
    {
     "name": "stdout",
     "output_type": "stream",
     "text": [
      "Graph of Aggravated assault per capita\n"
     ]
    },
    {
     "data": {
      "image/png": "[encoded data removed]",
      "text/plain": [
       "<Figure size 432x288 with 1 Axes>"
      ]
     },
     "metadata": {
      "needs_background": "light"
     },
     "output_type": "display_data"
    },
    {
     "name": "stdout",
     "output_type": "stream",
     "text": [
      "Graph of Property crime per capita\n"
     ]
    },
    {
     "data": {
      "image/png": "[encoded data removed]",
      "text/plain": [
       "<Figure size 432x288 with 1 Axes>"
      ]
     },
     "metadata": {
      "needs_background": "light"
     },
     "output_type": "display_data"
    },
    {
     "name": "stdout",
     "output_type": "stream",
     "text": [
      "Graph of Burglary per capita\n"
     ]
    },
    {
     "data": {
      "image/png": "[encoded data removed]",
      "text/plain": [
       "<Figure size 432x288 with 1 Axes>"
      ]
     },
     "metadata": {
      "needs_background": "light"
     },
     "output_type": "display_data"
    },
    {
     "name": "stdout",
     "output_type": "stream",
     "text": [
      "Graph of Larceny-theft per capita\n"
     ]
    },
    {
     "data": {
      "image/png": "[encoded data removed]",
      "text/plain": [
       "<Figure size 432x288 with 1 Axes>"
      ]
     },
     "metadata": {
      "needs_background": "light"
     },
     "output_type": "display_data"
    },
    {
     "name": "stdout",
     "output_type": "stream",
     "text": [
      "Graph of Motor vehicle theft per capita\n"
     ]
    },
    {
     "data": {
      "image/png": "[encoded data removed]",
      "text/plain": [
       "<Figure size 432x288 with 1 Axes>"
      ]
     },
     "metadata": {
      "needs_background": "light"
     },
     "output_type": "display_data"
    },
    {
     "name": "stdout",
     "output_type": "stream",
     "text": [
      "Graph of ratio below poverty line\n"
     ]
    },
    {
     "data": {
      "image/png": "[encoded data removed]",
      "text/plain": [
       "<Figure size 432x288 with 1 Axes>"
      ]
     },
     "metadata": {
      "needs_background": "light"
     },
     "output_type": "display_data"
    }
   ],
   "source": [
    "for col in ['Violent crime per capita', 'Robbery per capita',\n",
    "       'Aggravated assault per capita', 'Property crime per capita',\n",
    "       'Burglary per capita', 'Larceny-theft per capita',\n",
    "       'Motor vehicle theft per capita','ratio below poverty line']:\n",
    "    print('Graph of '+ col)\n",
    "    plt.boxplot(mpbndf[col].dropna())\n",
    "    plt.show()\n",
    "#the boxplots show a few outliers, however this data is informative rather than invalid\n",
    "#the hypothesis of poverty breeds necessity is looking for bias in the crime data such as\n",
    "#outliers to correlate with higher proverty rate"
   ]
  },
  {
   "cell_type": "code",
   "execution_count": 23,
   "metadata": {},
   "outputs": [],
   "source": [
    "def MakePmfFromHist(hist, label=None):\n",
    "\n",
    "    return ts.Pmf(hist, label=label)"
   ]
  },
  {
   "cell_type": "code",
   "execution_count": 24,
   "metadata": {},
   "outputs": [
    {
     "name": "stdout",
     "output_type": "stream",
     "text": [
      "0.14952996633480542\n",
      "44\n",
      "44\n"
     ]
    }
   ],
   "source": [
    "#property crime pmf over and under the mean poverty\n",
    "m=mpbndf['ratio below poverty line'].mean()\n",
    "print(m)\n",
    "pco=mpbndf[mpbndf['ratio below poverty line']>m]\n",
    "pcu=mpbndf[mpbndf['ratio below poverty line']<m]\n",
    "pco=pco['Motor vehicle theft per capita'].dropna()\n",
    "pcu=pcu['Motor vehicle theft per capita'].dropna()\n",
    "pcu=pcu.append(pd.Series(pcu.mean()))\n",
    "print(len(pco))\n",
    "print(len(pcu))\n"
   ]
  },
  {
   "cell_type": "code",
   "execution_count": null,
   "metadata": {},
   "outputs": [],
   "source": [
    "    "
   ]
  },
  {
   "cell_type": "code",
   "execution_count": 25,
   "metadata": {},
   "outputs": [],
   "source": [
    "overpmf=ts.Pmf(pco, label='^ avg MV theft per capita')\n",
    "underpmf=ts.Pmf(pcu, label='_ avg MV theft per capita')"
   ]
  },
  {
   "cell_type": "code",
   "execution_count": 26,
   "metadata": {},
   "outputs": [
    {
     "data": {
      "image/png": "[encoded data removed]",
      "text/plain": [
       "<Figure size 432x288 with 1 Axes>"
      ]
     },
     "metadata": {
      "needs_background": "light"
     },
     "output_type": "display_data"
    }
   ],
   "source": [
    "width = 0.0001 / 0.8\n",
    "\n",
    "# plot PMFs of mv theft over and under poverty linve\n",
    "tp.PrePlot(2)\n",
    "tp.Hist(overpmf, align='right', width=width,color='red')\n",
    "tp.Hist(underpmf, align='left', width=width)\n",
    "tp.Config(xlabel='MV Theft per Capita', ylabel='PMF')\n",
    "#not really helpful as values are continious "
   ]
  },
  {
   "cell_type": "code",
   "execution_count": null,
   "metadata": {},
   "outputs": [],
   "source": []
  },
  {
   "cell_type": "code",
   "execution_count": 27,
   "metadata": {},
   "outputs": [
    {
     "data": {
      "text/plain": [
       "{'xscale': 'linear', 'yscale': 'linear'}"
      ]
     },
     "execution_count": 27,
     "metadata": {},
     "output_type": "execute_result"
    },
    {
     "data": {
      "image/png": "[encoded data removed]",
      "text/plain": [
       "<Figure size 432x288 with 1 Axes>"
      ]
     },
     "metadata": {
      "needs_background": "light"
     },
     "output_type": "display_data"
    }
   ],
   "source": [
    "tp.Cdf(ts.Cdf(ts.Pmf(mpbndf['Larceny-theft per capita'])),label = 'Larceny per capita CDF')\n",
    "# 80% of 'Larceny-theft per capita' is less than 0.025"
   ]
  },
  {
   "cell_type": "code",
   "execution_count": 28,
   "metadata": {},
   "outputs": [
    {
     "data": {
      "image/png": "[encoded data removed]",
      "text/plain": [
       "<Figure size 432x288 with 1 Axes>"
      ]
     },
     "metadata": {
      "needs_background": "light"
     },
     "output_type": "display_data"
    },
    {
     "data": {
      "image/png": "[encoded data removed]",
      "text/plain": [
       "<Figure size 576x432 with 1 Axes>"
      ]
     },
     "metadata": {
      "needs_background": "light"
     },
     "output_type": "display_data"
    },
    {
     "data": {
      "text/plain": [
       "<Figure size 576x432 with 0 Axes>"
      ]
     },
     "metadata": {},
     "output_type": "display_data"
    }
   ],
   "source": [
    "#Plot 1 analytical distribution and provide your analysis on how it applies to the dataset you have chosen (Chapter 5)\n",
    "xs,ys=ts.NormalProbability(mpbndf['Burglary per capita'])\n",
    "fxs,fys=ts.FitLine(xs,inter=mpbndf['Burglary per capita'].mean(skipna=True),slope=mpbndf['Burglary per capita'].std(skipna=True))\n",
    "tp.Plot(fxs,fys)\n",
    "tp.show()\n",
    "tp.Plot(xs,ys)\n",
    "tp.show()\n",
    "# The normal probability plot shows that burglary per kapita is surprisingly close to normal despite the kurtosis\n",
    "#shown by the histogram\n",
    "#it also indicates that there are samples of burglary per kapita between .003 and .005 than expected as well\n",
    "#as a more pronounced deficit between 0.010 and 0.012"
   ]
  },
  {
   "cell_type": "code",
   "execution_count": 29,
   "metadata": {},
   "outputs": [
    {
     "data": {
      "image/png": "[encoded data removed]",
      "text/plain": [
       "<Figure size 432x288 with 1 Axes>"
      ]
     },
     "metadata": {
      "needs_background": "light"
     },
     "output_type": "display_data"
    },
    {
     "name": "stdout",
     "output_type": "stream",
     "text": [
      "SpearmanrResult(correlation=0.7855580666326456, pvalue=2.083466734145672e-19)\n"
     ]
    },
    {
     "data": {
      "image/png": "[encoded data removed]",
      "text/plain": [
       "<Figure size 432x288 with 1 Axes>"
      ]
     },
     "metadata": {
      "needs_background": "light"
     },
     "output_type": "display_data"
    },
    {
     "name": "stdout",
     "output_type": "stream",
     "text": [
      "SpearmanrResult(correlation=0.5852956185754902, pvalue=2.6184425815328056e-09)\n"
     ]
    }
   ],
   "source": [
    "import scipy.stats as ss\n",
    "#Create two scatter plots comparing two variables and provide your analysis on correlation and causation. Remember, covariance, Pearson’s correlation, and Non-Linear Relationships should also be considered during your analysis(Chapter 7).\n",
    "plt.scatter(mpbndf['ratio below poverty line'],mpbndf['Violent crime per capita'])\n",
    "#plt.axis('scaled')\n",
    "plt.show()\n",
    "#the scatterplot between poverty and violent crime shows a positive correlation \n",
    "#although not an incredibly strong corr\n",
    "a=mpbndf[['ratio below poverty line','Violent crime per capita']].dropna()\n",
    "print(ss.spearmanr(a[['ratio below poverty line']],a[['Violent crime per capita']]))\n",
    "#the spearman rank corr is surprisingly strong as well as its p value, the p value is most likely due to the \n",
    "#smaller than desired sample size\n",
    "plt.scatter(mpbndf['ratio below poverty line'],mpbndf['Burglary per capita'])\n",
    "#plt.axis('scaled')\n",
    "plt.show()\n",
    "b=mpbndf[['ratio below poverty line','Burglary per capita']].dropna()\n",
    "print(ss.spearmanr(b[['ratio below poverty line']],b[['Burglary per capita']]))\n",
    "#The scatter plot also shows a slightly weaker positive corr between increased poverty and burgalry\n",
    "# The pvalue shows significance in the correlation\n",
    "#with the positive correlations \n",
    "\n",
    "#causation: both the graphs and the correlation coef have shown that\n",
    "# poverty may lead to necessity"
   ]
  },
  {
   "cell_type": "code",
   "execution_count": 30,
   "metadata": {},
   "outputs": [],
   "source": [
    "class DiffMeansPermute(ts.HypothesisTest):\n",
    "\n",
    "    def TestStatistic(self, data):\n",
    "        group1, group2 = data\n",
    "        test_stat = abs(group1.mean() - group2.mean())\n",
    "        return test_stat\n",
    "\n",
    "    def MakeModel(self):\n",
    "        group1, group2 = self.data\n",
    "        self.n, self.m = len(group1), len(group2)\n",
    "        self.pool = np.hstack((group1, group2))\n",
    "\n",
    "    def RunModel(self):\n",
    "        np.random.shuffle(self.pool)\n",
    "        data = self.pool[:self.n], self.pool[self.n:]\n",
    "        return data"
   ]
  },
  {
   "cell_type": "code",
   "execution_count": 31,
   "metadata": {},
   "outputs": [
    {
     "name": "stdout",
     "output_type": "stream",
     "text": [
      "Violent crime per capita pval 0.0\n"
     ]
    },
    {
     "data": {
      "image/png": "[encoded data removed]",
      "text/plain": [
       "<Figure size 432x288 with 1 Axes>"
      ]
     },
     "metadata": {
      "needs_background": "light"
     },
     "output_type": "display_data"
    },
    {
     "name": "stdout",
     "output_type": "stream",
     "text": [
      "Robbery per capita pval 0.0\n"
     ]
    },
    {
     "data": {
      "image/png": "[encoded data removed]",
      "text/plain": [
       "<Figure size 576x432 with 1 Axes>"
      ]
     },
     "metadata": {
      "needs_background": "light"
     },
     "output_type": "display_data"
    },
    {
     "name": "stdout",
     "output_type": "stream",
     "text": [
      "Aggravated assault per capita pval 0.0\n"
     ]
    },
    {
     "data": {
      "image/png": "[encoded data removed]",
      "text/plain": [
       "<Figure size 576x432 with 1 Axes>"
      ]
     },
     "metadata": {
      "needs_background": "light"
     },
     "output_type": "display_data"
    },
    {
     "name": "stdout",
     "output_type": "stream",
     "text": [
      "Property crime per capita pval 0.0\n"
     ]
    },
    {
     "data": {
      "image/png": "[encoded data removed]",
      "text/plain": [
       "<Figure size 576x432 with 1 Axes>"
      ]
     },
     "metadata": {
      "needs_background": "light"
     },
     "output_type": "display_data"
    },
    {
     "name": "stdout",
     "output_type": "stream",
     "text": [
      "Burglary per capita pval 0.0\n"
     ]
    },
    {
     "data": {
      "image/png": "[encoded data removed]",
      "text/plain": [
       "<Figure size 576x432 with 1 Axes>"
      ]
     },
     "metadata": {
      "needs_background": "light"
     },
     "output_type": "display_data"
    },
    {
     "name": "stdout",
     "output_type": "stream",
     "text": [
      "Larceny-theft per capita pval 0.0\n"
     ]
    },
    {
     "data": {
      "image/png": "[encoded data removed]",
      "text/plain": [
       "<Figure size 576x432 with 1 Axes>"
      ]
     },
     "metadata": {
      "needs_background": "light"
     },
     "output_type": "display_data"
    },
    {
     "name": "stdout",
     "output_type": "stream",
     "text": [
      "Motor vehicle theft per capita pval 0.0\n"
     ]
    },
    {
     "data": {
      "image/png": "[encoded data removed]",
      "text/plain": [
       "<Figure size 576x432 with 1 Axes>"
      ]
     },
     "metadata": {
      "needs_background": "light"
     },
     "output_type": "display_data"
    },
    {
     "data": {
      "text/plain": [
       "<Figure size 576x432 with 0 Axes>"
      ]
     },
     "metadata": {},
     "output_type": "display_data"
    }
   ],
   "source": [
    "# hypothesis test using difference in means\n",
    "\n",
    "pco=mpbndf[mpbndf['ratio below poverty line']>m].dropna()\n",
    "pcu=mpbndf[mpbndf['ratio below poverty line']<m].dropna()\n",
    "for i in['Violent crime per capita', 'Robbery per capita',\n",
    "       'Aggravated assault per capita', 'Property crime per capita',\n",
    "       'Burglary per capita', 'Larceny-theft per capita',\n",
    "       'Motor vehicle theft per capita']:\n",
    "    data=pco[i],pcu[i]\n",
    "    ht= DiffMeansPermute(data)\n",
    "    print(i,'pval',ht.PValue())\n",
    "    ht.PlotCdf()\n",
    "    tp.Show(xlabel='diffmeans',ylabel='CDF')\n",
    "    "
   ]
  },
  {
   "cell_type": "code",
   "execution_count": 32,
   "metadata": {},
   "outputs": [
    {
     "data": {
      "text/plain": [
       "Index(['City', 'Violent_crime_per_capita', 'Robbery_per_capita',\n",
       "       'Aggravated_assault_per_capita', 'Property_crime_per_capita',\n",
       "       'Burglary_per_capita', 'Larceny_theft_per_capita',\n",
       "       'Motor_vehicle_theft_per_capita', 'Year', 'ratio_below_poverty_line'],\n",
       "      dtype='object')"
      ]
     },
     "execution_count": 32,
     "metadata": {},
     "output_type": "execute_result"
    }
   ],
   "source": [
    "#multiple regression analysis\n",
    "import statsmodels.formula.api as smf\n",
    "mpbndf=mpbndf.rename(columns={'ratio below poverty line':'ratio_below_poverty_line' ,'Violent crime per capita' :'Violent_crime_per_capita' , 'Robbery per capita' :'Robbery_per_capita' ,\n",
    "       'Aggravated assault per capita' :'Aggravated_assault_per_capita', 'Property crime per capita' :'Property_crime_per_capita' ,\n",
    "       'Burglary per capita' :'Burglary_per_capita' , 'Larceny-theft per capita' :'Larceny_theft_per_capita' ,\n",
    "       'Motor vehicle theft per capita':'Motor_vehicle_theft_per_capita'})\n",
    "mpbndf.columns"
   ]
  },
  {
   "cell_type": "code",
   "execution_count": 33,
   "metadata": {},
   "outputs": [
    {
     "data": {
      "text/html": [
       "<table class=\"simpletable\">\n",
       "<caption>OLS Regression Results</caption>\n",
       "<tr>\n",
       "  <th>Dep. Variable:</th>    <td>ratio_below_poverty_line</td> <th>  R-squared:         </th> <td>   0.786</td>\n",
       "</tr>\n",
       "<tr>\n",
       "  <th>Model:</th>                       <td>OLS</td>           <th>  Adj. R-squared:    </th> <td>   0.769</td>\n",
       "</tr>\n",
       "<tr>\n",
       "  <th>Method:</th>                 <td>Least Squares</td>      <th>  F-statistic:       </th> <td>   47.71</td>\n",
       "</tr>\n",
       "<tr>\n",
       "  <th>Date:</th>                 <td>Wed, 05 Aug 2020</td>     <th>  Prob (F-statistic):</th> <td>4.04e-24</td>\n",
       "</tr>\n",
       "<tr>\n",
       "  <th>Time:</th>                     <td>01:59:19</td>         <th>  Log-Likelihood:    </th> <td>  175.22</td>\n",
       "</tr>\n",
       "<tr>\n",
       "  <th>No. Observations:</th>          <td>    85</td>          <th>  AIC:               </th> <td>  -336.4</td>\n",
       "</tr>\n",
       "<tr>\n",
       "  <th>Df Residuals:</th>              <td>    78</td>          <th>  BIC:               </th> <td>  -319.3</td>\n",
       "</tr>\n",
       "<tr>\n",
       "  <th>Df Model:</th>                  <td>     6</td>          <th>                     </th>     <td> </td>   \n",
       "</tr>\n",
       "<tr>\n",
       "  <th>Covariance Type:</th>          <td>nonrobust</td>        <th>                     </th>     <td> </td>   \n",
       "</tr>\n",
       "</table>\n",
       "<table class=\"simpletable\">\n",
       "<tr>\n",
       "                 <td></td>                   <th>coef</th>     <th>std err</th>      <th>t</th>      <th>P>|t|</th>  <th>[0.025</th>    <th>0.975]</th>  \n",
       "</tr>\n",
       "<tr>\n",
       "  <th>Intercept</th>                      <td>    0.0208</td> <td>    0.012</td> <td>    1.790</td> <td> 0.077</td> <td>   -0.002</td> <td>    0.044</td>\n",
       "</tr>\n",
       "<tr>\n",
       "  <th>Violent_crime_per_capita</th>       <td>   -3.3948</td> <td>   26.248</td> <td>   -0.129</td> <td> 0.897</td> <td>  -55.650</td> <td>   48.860</td>\n",
       "</tr>\n",
       "<tr>\n",
       "  <th>Robbery_per_capita</th>             <td>   46.2898</td> <td>   35.463</td> <td>    1.305</td> <td> 0.196</td> <td>  -24.312</td> <td>  116.891</td>\n",
       "</tr>\n",
       "<tr>\n",
       "  <th>Aggravated_assault_per_capita</th>  <td>   22.0815</td> <td>   28.869</td> <td>    0.765</td> <td> 0.447</td> <td>  -35.391</td> <td>   79.554</td>\n",
       "</tr>\n",
       "<tr>\n",
       "  <th>Property_crime_per_capita</th>      <td>   -1.9703</td> <td>    1.578</td> <td>   -1.248</td> <td> 0.216</td> <td>   -5.113</td> <td>    1.172</td>\n",
       "</tr>\n",
       "<tr>\n",
       "  <th>Burglary_per_capita</th>            <td>    4.2785</td> <td>    3.026</td> <td>    1.414</td> <td> 0.161</td> <td>   -1.747</td> <td>   10.304</td>\n",
       "</tr>\n",
       "<tr>\n",
       "  <th>Larceny_theft_per_capita</th>       <td>    4.6259</td> <td>    1.571</td> <td>    2.945</td> <td> 0.004</td> <td>    1.499</td> <td>    7.753</td>\n",
       "</tr>\n",
       "<tr>\n",
       "  <th>Motor_vehicle_theft_per_capita</th> <td>  -10.8747</td> <td>    5.551</td> <td>   -1.959</td> <td> 0.054</td> <td>  -21.925</td> <td>    0.176</td>\n",
       "</tr>\n",
       "</table>\n",
       "<table class=\"simpletable\">\n",
       "<tr>\n",
       "  <th>Omnibus:</th>       <td> 1.006</td> <th>  Durbin-Watson:     </th> <td>   1.933</td>\n",
       "</tr>\n",
       "<tr>\n",
       "  <th>Prob(Omnibus):</th> <td> 0.605</td> <th>  Jarque-Bera (JB):  </th> <td>   0.599</td>\n",
       "</tr>\n",
       "<tr>\n",
       "  <th>Skew:</th>          <td>-0.189</td> <th>  Prob(JB):          </th> <td>   0.741</td>\n",
       "</tr>\n",
       "<tr>\n",
       "  <th>Kurtosis:</th>      <td> 3.161</td> <th>  Cond. No.          </th> <td>1.33e+17</td>\n",
       "</tr>\n",
       "</table><br/><br/>Warnings:<br/>[1] Standard Errors assume that the covariance matrix of the errors is correctly specified.<br/>[2] The smallest eigenvalue is 4.83e-33. This might indicate that there are<br/>strong multicollinearity problems or that the design matrix is singular."
      ],
      "text/plain": [
       "<class 'statsmodels.iolib.summary.Summary'>\n",
       "\"\"\"\n",
       "                               OLS Regression Results                               \n",
       "====================================================================================\n",
       "Dep. Variable:     ratio_below_poverty_line   R-squared:                       0.786\n",
       "Model:                                  OLS   Adj. R-squared:                  0.769\n",
       "Method:                       Least Squares   F-statistic:                     47.71\n",
       "Date:                      Wed, 05 Aug 2020   Prob (F-statistic):           4.04e-24\n",
       "Time:                              01:59:19   Log-Likelihood:                 175.22\n",
       "No. Observations:                        85   AIC:                            -336.4\n",
       "Df Residuals:                            78   BIC:                            -319.3\n",
       "Df Model:                                 6                                         \n",
       "Covariance Type:                  nonrobust                                         \n",
       "==================================================================================================\n",
       "                                     coef    std err          t      P>|t|      [0.025      0.975]\n",
       "--------------------------------------------------------------------------------------------------\n",
       "Intercept                          0.0208      0.012      1.790      0.077      -0.002       0.044\n",
       "Violent_crime_per_capita          -3.3948     26.248     -0.129      0.897     -55.650      48.860\n",
       "Robbery_per_capita                46.2898     35.463      1.305      0.196     -24.312     116.891\n",
       "Aggravated_assault_per_capita     22.0815     28.869      0.765      0.447     -35.391      79.554\n",
       "Property_crime_per_capita         -1.9703      1.578     -1.248      0.216      -5.113       1.172\n",
       "Burglary_per_capita                4.2785      3.026      1.414      0.161      -1.747      10.304\n",
       "Larceny_theft_per_capita           4.6259      1.571      2.945      0.004       1.499       7.753\n",
       "Motor_vehicle_theft_per_capita   -10.8747      5.551     -1.959      0.054     -21.925       0.176\n",
       "==============================================================================\n",
       "Omnibus:                        1.006   Durbin-Watson:                   1.933\n",
       "Prob(Omnibus):                  0.605   Jarque-Bera (JB):                0.599\n",
       "Skew:                          -0.189   Prob(JB):                        0.741\n",
       "Kurtosis:                       3.161   Cond. No.                     1.33e+17\n",
       "==============================================================================\n",
       "\n",
       "Warnings:\n",
       "[1] Standard Errors assume that the covariance matrix of the errors is correctly specified.\n",
       "[2] The smallest eigenvalue is 4.83e-33. This might indicate that there are\n",
       "strong multicollinearity problems or that the design matrix is singular.\n",
       "\"\"\""
      ]
     },
     "execution_count": 33,
     "metadata": {},
     "output_type": "execute_result"
    }
   ],
   "source": [
    "\n",
    "reg=smf.ols('ratio_below_poverty_line ~ Violent_crime_per_capita + Robbery_per_capita +       Aggravated_assault_per_capita  +  Property_crime_per_capita  +        Burglary_per_capita  +  Larceny_theft_per_capita  + Motor_vehicle_theft_per_capita ',data=mpbndf).fit()\n",
    "reg.summary()\n",
    "#with an r2 of ..786 the coef of det points towards poverty levels rising with crime\n",
    "# taking into account the number of indep vars the adj r shows similar explanation\n",
    "#Violent crime, Roberty, assault all have high standard error values and therefore greater spread/less contribution to the correct regression fit.\n",
    "#overall it"
   ]
  },
  {
   "cell_type": "markdown",
   "metadata": {},
   "source": [
    "Poverty Breeds Necessity \n",
    "\n",
    "During my time as a bachelor's student of Political Science I heard the phrases “Poverty Breeds Necessity” as well as the more popular “Necessity is the mother of all invention”. While these assertions seem similar, they could be said to be the root of two different political ideologies. The Phrase “Poverty Breeds Necessity” has a downtrodden tone but could be interpreted positively either way. “Necessity is the mother of all invention” is the much more upbeat of the two. Without getting into the political aspect of things I wanted to look at the pure statistics of “Poverty breeds necessity”. As a reference point I used census data to examine poverty levels. To look at necessity I took the darker view and utilized crime statistics from the US Department of Justice’s Crime in the United States yearly report. \n",
    "\n",
    "With these two sources I extracted variables representing the ratio of residents under the poverty line and counts of crimes both categorized by city and year. The biggest problem here is sample size. Having to match the data from the two sources the number of cities and years contained in both was less than I had hoped for. I believe that this is the biggest failure of the analysis. Had I been able to crawl the entirety of the Department of Justice’s website to pull all the data for all cities in the US in a reasonable manner the issue would have been greatly alleviated. This was made undoable due to the nonstandard presentation and structuring of the Department of Justice’s website.  \n",
    "\n",
    "Once the data for both were extracted the following was fairly easy. Cleaning and examining the data revealed that the work had already been done. With such crucial statistics even the government was careful to not provide erroneous or false data. The biggest trip up was again the limited number of observations. When preforming a probability mass function this was fully displayed. Each value measured was unique. The probability of a value occurring was equal to all other values. Even though this invalidated the intent of a PMF it still showed the lower poverty rates having a higher concentration around lower rates of motor vehicle theft. The opposite was also true, even more glaringly so. The observations with poverty values greater than the mean value had a much less concentrated wider spread of rate of motor vehicle theft. Lower poverty rate observations were centered around .001 motor vehicle theft with a spread of nearly 0 to 0.0019. Higher poverty rate observations spread from 0.002 all the way to over 0.005 with an outlier all the way at 0.006 or nearly 6 times the rate of motor vehicle theft. \n",
    "\n",
    "Without further delving into the minutia of the analysis, the result was fairly one sided. The hypothesis tests and correlation tests allowed the null hypothesis to be rejected. The correlations showed fairly strong correlation and low PValues. The analysis was concluded with the regression that was performed. The multiple regression predicting poverty rate via crimes per capita showed an R2 value of nearly .8 and an adjusted R2 value over .75. This suggests that a large part of poverty rate can be ‘explained’ by the occurrence of crime. With this we can say that poverty and crime are correlated, however we cannot insist that one causes the other. "
   ]
  },
  {
   "cell_type": "code",
   "execution_count": null,
   "metadata": {},
   "outputs": [],
   "source": []
  }
 ],
 "metadata": {
  "kernelspec": {
   "display_name": "Python 3",
   "language": "python",
   "name": "python3"
  },
  "language_info": {
   "codemirror_mode": {
    "name": "ipython",
    "version": 3
   },
   "file_extension": ".py",
   "mimetype": "text/x-python",
   "name": "python",
   "nbconvert_exporter": "python",
   "pygments_lexer": "ipython3",
   "version": "3.7.6"
  }
 },
 "nbformat": 4,
 "nbformat_minor": 4
}
